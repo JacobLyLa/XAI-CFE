{
 "cells": [
  {
   "cell_type": "code",
   "execution_count": 19,
   "metadata": {},
   "outputs": [
    {
     "name": "stdout",
     "output_type": "stream",
     "text": [
      "[0.18256591 0.51589924 0.10391422 0.8174341 ]\n"
     ]
    }
   ],
   "source": [
    "import numpy as np\n",
    "import pandas as pd\n",
    "import gower\n",
    "\n",
    "# Example dataset\n",
    "data = pd.DataFrame({\n",
    "    'numerical_feature_1': [0, 0, 0.0, 5.1],\n",
    "    'numerical_feature_2': [0, 0, 2.1, 8.9],\n",
    "    'categorical_feature': ['A', 'B', 'A', 'C']\n",
    "})\n",
    "\n",
    "# Example data_point\n",
    "data_point = pd.DataFrame({\n",
    "    'numerical_feature_1': [0.1],\n",
    "    'numerical_feature_2': [4.7],\n",
    "    'categorical_feature': ['A']\n",
    "})\n",
    "\n",
    "# Combine the data_point with the dataset\n",
    "combined_data = pd.concat([data, data_point], ignore_index=True)\n",
    "\n",
    "# Compute the median and MAD for numerical features\n",
    "medians = combined_data.median()\n",
    "mad = (combined_data - medians).abs().median()\n",
    "\n",
    "# Set a small constant value (epsilon) to avoid division by zero\n",
    "epsilon = 1e-6\n",
    "\n",
    "# Update MAD values with epsilon to avoid division by zero\n",
    "mad[mad == 0] = epsilon\n",
    "\n",
    "# Normalize numerical features using the MAD\n",
    "combined_data_normalized = (combined_data - medians) / mad\n",
    "\n",
    "# Replace the categorical features with the original values\n",
    "combined_data_normalized['categorical_feature'] = combined_data['categorical_feature']\n",
    "\n",
    "# Calculate Gower distance between data_point and all points in the dataset\n",
    "gower_distances = gower.gower_matrix(combined_data_normalized)\n",
    "data_point_distances = gower_distances[-1, :-1]\n",
    "\n",
    "print(data_point_distances)"
   ]
  },
  {
   "cell_type": "code",
   "execution_count": 16,
   "metadata": {},
   "outputs": [
    {
     "data": {
      "text/plain": [
       "numerical_feature_1    2.4\n",
       "numerical_feature_2    2.1\n",
       "dtype: float64"
      ]
     },
     "execution_count": 16,
     "metadata": {},
     "output_type": "execute_result"
    }
   ],
   "source": [
    "medians"
   ]
  }
 ],
 "metadata": {
  "kernelspec": {
   "display_name": "base",
   "language": "python",
   "name": "python3"
  },
  "language_info": {
   "codemirror_mode": {
    "name": "ipython",
    "version": 3
   },
   "file_extension": ".py",
   "mimetype": "text/x-python",
   "name": "python",
   "nbconvert_exporter": "python",
   "pygments_lexer": "ipython3",
   "version": "3.9.12"
  },
  "orig_nbformat": 4
 },
 "nbformat": 4,
 "nbformat_minor": 2
}
