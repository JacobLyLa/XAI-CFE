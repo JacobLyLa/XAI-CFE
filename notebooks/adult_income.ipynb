{
 "cells": [
  {
   "cell_type": "code",
   "execution_count": 68,
   "id": "7d4fdc91",
   "metadata": {},
   "outputs": [],
   "source": [
    "import pickle\n",
    "import warnings\n",
    "from collections import Counter\n",
    "\n",
    "import matplotlib.pyplot as plt\n",
    "import pandas as pd\n",
    "from imblearn.pipeline import Pipeline\n",
    "from sklearn.compose import ColumnTransformer\n",
    "from sklearn.ensemble import GradientBoostingClassifier\n",
    "from sklearn.metrics import accuracy_score\n",
    "from sklearn.model_selection import train_test_split\n",
    "from sklearn.preprocessing import LabelEncoder, MinMaxScaler, OneHotEncoder\n",
    "\n",
    "warnings.filterwarnings('ignore')"
   ]
  },
  {
   "cell_type": "markdown",
   "id": "7a17c495",
   "metadata": {},
   "source": [
    "# Data reading and visualization"
   ]
  },
  {
   "cell_type": "code",
   "execution_count": 69,
   "id": "73a315b8",
   "metadata": {},
   "outputs": [],
   "source": [
    "df = pd.read_csv('../datasets/adult.csv', na_values='?', index_col=0)\n",
    "df.to_csv('adult.csv', index=False)\n",
    "# drop rows with missing vals\n",
    "df = df.dropna()\n",
    "df = df.drop(columns = ['fnlwgt'])"
   ]
  },
  {
   "cell_type": "markdown",
   "id": "9efdb6aa",
   "metadata": {},
   "source": [
    "### Description of the dataset"
   ]
  },
  {
   "cell_type": "markdown",
   "id": "99d2483c",
   "metadata": {},
   "source": [
    "The \"education-num\" feature is a numerical representation of the \"education\" feature. Here is the mapping:"
   ]
  },
  {
   "cell_type": "code",
   "execution_count": 70,
   "id": "bf2a767b",
   "metadata": {},
   "outputs": [],
   "source": [
    "df = df.drop(columns = ['education'])"
   ]
  },
  {
   "cell_type": "markdown",
   "id": "d209d62a",
   "metadata": {},
   "source": [
    "### Target class distribution"
   ]
  },
  {
   "cell_type": "code",
   "execution_count": 71,
   "id": "bbaa6716",
   "metadata": {},
   "outputs": [
    {
     "name": "stdout",
     "output_type": "stream",
     "text": [
      "Class=<=50K, Percentage=75.216%\n",
      "Class=>50K, Percentage=24.784%\n"
     ]
    }
   ],
   "source": [
    "target = df.values[:,-1]\n",
    "counter = Counter(target)\n",
    "for k,v in counter.items():\n",
    "    per = v / len(target) * 100\n",
    "    print('Class=%s, Percentage=%.3f%%' % (k, per))"
   ]
  },
  {
   "cell_type": "markdown",
   "id": "9161110d",
   "metadata": {},
   "source": [
    "### Select columns with numerical data types"
   ]
  },
  {
   "cell_type": "code",
   "execution_count": 72,
   "id": "f275ad9b",
   "metadata": {},
   "outputs": [
    {
     "data": {
      "text/html": [
       "<div>\n",
       "<style scoped>\n",
       "    .dataframe tbody tr th:only-of-type {\n",
       "        vertical-align: middle;\n",
       "    }\n",
       "\n",
       "    .dataframe tbody tr th {\n",
       "        vertical-align: top;\n",
       "    }\n",
       "\n",
       "    .dataframe thead th {\n",
       "        text-align: right;\n",
       "    }\n",
       "</style>\n",
       "<table border=\"1\" class=\"dataframe\">\n",
       "  <thead>\n",
       "    <tr style=\"text-align: right;\">\n",
       "      <th></th>\n",
       "      <th>educational-num</th>\n",
       "      <th>capital-gain</th>\n",
       "      <th>capital-loss</th>\n",
       "      <th>hours-per-week</th>\n",
       "    </tr>\n",
       "    <tr>\n",
       "      <th>age</th>\n",
       "      <th></th>\n",
       "      <th></th>\n",
       "      <th></th>\n",
       "      <th></th>\n",
       "    </tr>\n",
       "  </thead>\n",
       "  <tbody>\n",
       "    <tr>\n",
       "      <th>25</th>\n",
       "      <td>7</td>\n",
       "      <td>0</td>\n",
       "      <td>0</td>\n",
       "      <td>40</td>\n",
       "    </tr>\n",
       "    <tr>\n",
       "      <th>38</th>\n",
       "      <td>9</td>\n",
       "      <td>0</td>\n",
       "      <td>0</td>\n",
       "      <td>50</td>\n",
       "    </tr>\n",
       "    <tr>\n",
       "      <th>28</th>\n",
       "      <td>12</td>\n",
       "      <td>0</td>\n",
       "      <td>0</td>\n",
       "      <td>40</td>\n",
       "    </tr>\n",
       "    <tr>\n",
       "      <th>44</th>\n",
       "      <td>10</td>\n",
       "      <td>7688</td>\n",
       "      <td>0</td>\n",
       "      <td>40</td>\n",
       "    </tr>\n",
       "    <tr>\n",
       "      <th>34</th>\n",
       "      <td>6</td>\n",
       "      <td>0</td>\n",
       "      <td>0</td>\n",
       "      <td>30</td>\n",
       "    </tr>\n",
       "  </tbody>\n",
       "</table>\n",
       "</div>"
      ],
      "text/plain": [
       "     educational-num  capital-gain  capital-loss  hours-per-week\n",
       "age                                                             \n",
       "25                 7             0             0              40\n",
       "38                 9             0             0              50\n",
       "28                12             0             0              40\n",
       "44                10          7688             0              40\n",
       "34                 6             0             0              30"
      ]
     },
     "execution_count": 72,
     "metadata": {},
     "output_type": "execute_result"
    }
   ],
   "source": [
    "num_ix = df.select_dtypes(include=['int64', 'float64']).columns\n",
    "subset = df[num_ix]\n",
    "subset.head()"
   ]
  },
  {
   "cell_type": "code",
   "execution_count": 73,
   "id": "7883e354",
   "metadata": {},
   "outputs": [
    {
     "data": {
      "image/png": "[encoded data removed]",
      "text/plain": [
       "<Figure size 1200x1000 with 4 Axes>"
      ]
     },
     "metadata": {},
     "output_type": "display_data"
    }
   ],
   "source": [
    "fig = plt.figure(figsize=(12,10))\n",
    "ax = fig.gca()\n",
    "subset.hist(ax=ax)\n",
    "plt.show()"
   ]
  },
  {
   "cell_type": "markdown",
   "id": "6abccf01",
   "metadata": {},
   "source": [
    "### Train/Test split"
   ]
  },
  {
   "cell_type": "code",
   "execution_count": 74,
   "id": "b68c1b50",
   "metadata": {},
   "outputs": [],
   "source": [
    "X_train, X_test, y_train, y_test = train_test_split(df.drop(columns=['income']), df['income'],\n",
    "                                   random_state=42, \n",
    "                                   test_size=0.2, \n",
    "                                   shuffle=True)\n",
    "y_label_encoder = LabelEncoder()\n",
    "y_train = y_label_encoder.fit_transform(y_train)\n",
    "y_test = y_label_encoder.transform(y_test)"
   ]
  },
  {
   "cell_type": "code",
   "execution_count": 75,
   "id": "112303f7",
   "metadata": {},
   "outputs": [
    {
     "name": "stdout",
     "output_type": "stream",
     "text": [
      "Class=1, Percentage=24.892%\n",
      "Class=0, Percentage=75.108%\n"
     ]
    }
   ],
   "source": [
    "counter = Counter(y_train)\n",
    "for k,v in counter.items():\n",
    "    per = v / len(y_train) * 100\n",
    "    print('Class=%s, Percentage=%.3f%%' % (k, per))"
   ]
  },
  {
   "cell_type": "code",
   "execution_count": 76,
   "id": "83912a37",
   "metadata": {},
   "outputs": [
    {
     "data": {
      "text/plain": [
       "Index(['workclass', 'marital-status', 'occupation', 'relationship', 'race',\n",
       "       'gender', 'native-country'],\n",
       "      dtype='object')"
      ]
     },
     "execution_count": 76,
     "metadata": {},
     "output_type": "execute_result"
    }
   ],
   "source": [
    "cat_ix = X_train.select_dtypes(include=['object', 'bool']).columns\n",
    "cat_ix"
   ]
  },
  {
   "cell_type": "markdown",
   "id": "4805b364",
   "metadata": {},
   "source": [
    "### Model"
   ]
  },
  {
   "cell_type": "code",
   "execution_count": 77,
   "id": "4624ba71",
   "metadata": {},
   "outputs": [],
   "source": [
    "gbc = GradientBoostingClassifier(n_estimators=200, learning_rate=0.1, verbose=1)\n",
    "ct = ColumnTransformer([('c',OneHotEncoder(),cat_ix), ('n',MinMaxScaler(),num_ix)])\n",
    "pipeline = Pipeline(steps=[('t',ct), ('m',gbc)])"
   ]
  },
  {
   "cell_type": "code",
   "execution_count": 78,
   "id": "73a7fe23",
   "metadata": {},
   "outputs": [
    {
     "name": "stdout",
     "output_type": "stream",
     "text": [
      "      Iter       Train Loss   Remaining Time \n",
      "         1           1.0508            6.96s\n",
      "         2           0.9971            6.73s\n",
      "         3           0.9546            6.57s\n",
      "         4           0.9188            6.47s\n",
      "         5           0.8891            6.43s\n",
      "         6           0.8643            6.37s\n",
      "         7           0.8420            6.34s\n",
      "         8           0.8238            6.29s\n",
      "         9           0.8076            6.24s\n",
      "        10           0.7936            6.21s\n",
      "        20           0.7130            5.84s\n",
      "        30           0.6779            5.41s\n",
      "        40           0.6577            5.02s\n",
      "        50           0.6428            4.60s\n",
      "        60           0.6334            4.25s\n",
      "        70           0.6262            3.89s\n",
      "        80           0.6195            3.55s\n",
      "        90           0.6142            3.23s\n",
      "       100           0.6098            2.92s\n",
      "       200           0.5832            0.00s\n"
     ]
    },
    {
     "data": {
      "text/html": [
       "<style>#sk-container-id-4 {color: black;background-color: white;}#sk-container-id-4 pre{padding: 0;}#sk-container-id-4 div.sk-toggleable {background-color: white;}#sk-container-id-4 label.sk-toggleable__label {cursor: pointer;display: block;width: 100%;margin-bottom: 0;padding: 0.3em;box-sizing: border-box;text-align: center;}#sk-container-id-4 label.sk-toggleable__label-arrow:before {content: \"▸\";float: left;margin-right: 0.25em;color: #696969;}#sk-container-id-4 label.sk-toggleable__label-arrow:hover:before {color: black;}#sk-container-id-4 div.sk-estimator:hover label.sk-toggleable__label-arrow:before {color: black;}#sk-container-id-4 div.sk-toggleable__content {max-height: 0;max-width: 0;overflow: hidden;text-align: left;background-color: #f0f8ff;}#sk-container-id-4 div.sk-toggleable__content pre {margin: 0.2em;color: black;border-radius: 0.25em;background-color: #f0f8ff;}#sk-container-id-4 input.sk-toggleable__control:checked~div.sk-toggleable__content {max-height: 200px;max-width: 100%;overflow: auto;}#sk-container-id-4 input.sk-toggleable__control:checked~label.sk-toggleable__label-arrow:before {content: \"▾\";}#sk-container-id-4 div.sk-estimator input.sk-toggleable__control:checked~label.sk-toggleable__label {background-color: #d4ebff;}#sk-container-id-4 div.sk-label input.sk-toggleable__control:checked~label.sk-toggleable__label {background-color: #d4ebff;}#sk-container-id-4 input.sk-hidden--visually {border: 0;clip: rect(1px 1px 1px 1px);clip: rect(1px, 1px, 1px, 1px);height: 1px;margin: -1px;overflow: hidden;padding: 0;position: absolute;width: 1px;}#sk-container-id-4 div.sk-estimator {font-family: monospace;background-color: #f0f8ff;border: 1px dotted black;border-radius: 0.25em;box-sizing: border-box;margin-bottom: 0.5em;}#sk-container-id-4 div.sk-estimator:hover {background-color: #d4ebff;}#sk-container-id-4 div.sk-parallel-item::after {content: \"\";width: 100%;border-bottom: 1px solid gray;flex-grow: 1;}#sk-container-id-4 div.sk-label:hover label.sk-toggleable__label {background-color: #d4ebff;}#sk-container-id-4 div.sk-serial::before {content: \"\";position: absolute;border-left: 1px solid gray;box-sizing: border-box;top: 0;bottom: 0;left: 50%;z-index: 0;}#sk-container-id-4 div.sk-serial {display: flex;flex-direction: column;align-items: center;background-color: white;padding-right: 0.2em;padding-left: 0.2em;position: relative;}#sk-container-id-4 div.sk-item {position: relative;z-index: 1;}#sk-container-id-4 div.sk-parallel {display: flex;align-items: stretch;justify-content: center;background-color: white;position: relative;}#sk-container-id-4 div.sk-item::before, #sk-container-id-4 div.sk-parallel-item::before {content: \"\";position: absolute;border-left: 1px solid gray;box-sizing: border-box;top: 0;bottom: 0;left: 50%;z-index: -1;}#sk-container-id-4 div.sk-parallel-item {display: flex;flex-direction: column;z-index: 1;position: relative;background-color: white;}#sk-container-id-4 div.sk-parallel-item:first-child::after {align-self: flex-end;width: 50%;}#sk-container-id-4 div.sk-parallel-item:last-child::after {align-self: flex-start;width: 50%;}#sk-container-id-4 div.sk-parallel-item:only-child::after {width: 0;}#sk-container-id-4 div.sk-dashed-wrapped {border: 1px dashed gray;margin: 0 0.4em 0.5em 0.4em;box-sizing: border-box;padding-bottom: 0.4em;background-color: white;}#sk-container-id-4 div.sk-label label {font-family: monospace;font-weight: bold;display: inline-block;line-height: 1.2em;}#sk-container-id-4 div.sk-label-container {text-align: center;}#sk-container-id-4 div.sk-container {/* jupyter's `normalize.less` sets `[hidden] { display: none; }` but bootstrap.min.css set `[hidden] { display: none !important; }` so we also need the `!important` here to be able to override the default hidden behavior on the sphinx rendered scikit-learn.org. See: https://github.com/scikit-learn/scikit-learn/issues/21755 */display: inline-block !important;position: relative;}#sk-container-id-4 div.sk-text-repr-fallback {display: none;}</style><div id=\"sk-container-id-4\" class=\"sk-top-container\"><div class=\"sk-text-repr-fallback\"><pre>Pipeline(steps=[(&#x27;t&#x27;,\n",
       "                 ColumnTransformer(transformers=[(&#x27;c&#x27;, OneHotEncoder(),\n",
       "                                                  Index([&#x27;workclass&#x27;, &#x27;marital-status&#x27;, &#x27;occupation&#x27;, &#x27;relationship&#x27;, &#x27;race&#x27;,\n",
       "       &#x27;gender&#x27;, &#x27;native-country&#x27;],\n",
       "      dtype=&#x27;object&#x27;)),\n",
       "                                                 (&#x27;n&#x27;, MinMaxScaler(),\n",
       "                                                  Index([&#x27;educational-num&#x27;, &#x27;capital-gain&#x27;, &#x27;capital-loss&#x27;, &#x27;hours-per-week&#x27;], dtype=&#x27;object&#x27;))])),\n",
       "                (&#x27;m&#x27;, GradientBoostingClassifier(n_estimators=200, verbose=1))])</pre><b>In a Jupyter environment, please rerun this cell to show the HTML representation or trust the notebook. <br />On GitHub, the HTML representation is unable to render, please try loading this page with nbviewer.org.</b></div><div class=\"sk-container\" hidden><div class=\"sk-item sk-dashed-wrapped\"><div class=\"sk-label-container\"><div class=\"sk-label sk-toggleable\"><input class=\"sk-toggleable__control sk-hidden--visually\" id=\"sk-estimator-id-22\" type=\"checkbox\" ><label for=\"sk-estimator-id-22\" class=\"sk-toggleable__label sk-toggleable__label-arrow\">Pipeline</label><div class=\"sk-toggleable__content\"><pre>Pipeline(steps=[(&#x27;t&#x27;,\n",
       "                 ColumnTransformer(transformers=[(&#x27;c&#x27;, OneHotEncoder(),\n",
       "                                                  Index([&#x27;workclass&#x27;, &#x27;marital-status&#x27;, &#x27;occupation&#x27;, &#x27;relationship&#x27;, &#x27;race&#x27;,\n",
       "       &#x27;gender&#x27;, &#x27;native-country&#x27;],\n",
       "      dtype=&#x27;object&#x27;)),\n",
       "                                                 (&#x27;n&#x27;, MinMaxScaler(),\n",
       "                                                  Index([&#x27;educational-num&#x27;, &#x27;capital-gain&#x27;, &#x27;capital-loss&#x27;, &#x27;hours-per-week&#x27;], dtype=&#x27;object&#x27;))])),\n",
       "                (&#x27;m&#x27;, GradientBoostingClassifier(n_estimators=200, verbose=1))])</pre></div></div></div><div class=\"sk-serial\"><div class=\"sk-item sk-dashed-wrapped\"><div class=\"sk-label-container\"><div class=\"sk-label sk-toggleable\"><input class=\"sk-toggleable__control sk-hidden--visually\" id=\"sk-estimator-id-23\" type=\"checkbox\" ><label for=\"sk-estimator-id-23\" class=\"sk-toggleable__label sk-toggleable__label-arrow\">t: ColumnTransformer</label><div class=\"sk-toggleable__content\"><pre>ColumnTransformer(transformers=[(&#x27;c&#x27;, OneHotEncoder(),\n",
       "                                 Index([&#x27;workclass&#x27;, &#x27;marital-status&#x27;, &#x27;occupation&#x27;, &#x27;relationship&#x27;, &#x27;race&#x27;,\n",
       "       &#x27;gender&#x27;, &#x27;native-country&#x27;],\n",
       "      dtype=&#x27;object&#x27;)),\n",
       "                                (&#x27;n&#x27;, MinMaxScaler(),\n",
       "                                 Index([&#x27;educational-num&#x27;, &#x27;capital-gain&#x27;, &#x27;capital-loss&#x27;, &#x27;hours-per-week&#x27;], dtype=&#x27;object&#x27;))])</pre></div></div></div><div class=\"sk-parallel\"><div class=\"sk-parallel-item\"><div class=\"sk-item\"><div class=\"sk-label-container\"><div class=\"sk-label sk-toggleable\"><input class=\"sk-toggleable__control sk-hidden--visually\" id=\"sk-estimator-id-24\" type=\"checkbox\" ><label for=\"sk-estimator-id-24\" class=\"sk-toggleable__label sk-toggleable__label-arrow\">c</label><div class=\"sk-toggleable__content\"><pre>Index([&#x27;workclass&#x27;, &#x27;marital-status&#x27;, &#x27;occupation&#x27;, &#x27;relationship&#x27;, &#x27;race&#x27;,\n",
       "       &#x27;gender&#x27;, &#x27;native-country&#x27;],\n",
       "      dtype=&#x27;object&#x27;)</pre></div></div></div><div class=\"sk-serial\"><div class=\"sk-item\"><div class=\"sk-estimator sk-toggleable\"><input class=\"sk-toggleable__control sk-hidden--visually\" id=\"sk-estimator-id-25\" type=\"checkbox\" ><label for=\"sk-estimator-id-25\" class=\"sk-toggleable__label sk-toggleable__label-arrow\">OneHotEncoder</label><div class=\"sk-toggleable__content\"><pre>OneHotEncoder()</pre></div></div></div></div></div></div><div class=\"sk-parallel-item\"><div class=\"sk-item\"><div class=\"sk-label-container\"><div class=\"sk-label sk-toggleable\"><input class=\"sk-toggleable__control sk-hidden--visually\" id=\"sk-estimator-id-26\" type=\"checkbox\" ><label for=\"sk-estimator-id-26\" class=\"sk-toggleable__label sk-toggleable__label-arrow\">n</label><div class=\"sk-toggleable__content\"><pre>Index([&#x27;educational-num&#x27;, &#x27;capital-gain&#x27;, &#x27;capital-loss&#x27;, &#x27;hours-per-week&#x27;], dtype=&#x27;object&#x27;)</pre></div></div></div><div class=\"sk-serial\"><div class=\"sk-item\"><div class=\"sk-estimator sk-toggleable\"><input class=\"sk-toggleable__control sk-hidden--visually\" id=\"sk-estimator-id-27\" type=\"checkbox\" ><label for=\"sk-estimator-id-27\" class=\"sk-toggleable__label sk-toggleable__label-arrow\">MinMaxScaler</label><div class=\"sk-toggleable__content\"><pre>MinMaxScaler()</pre></div></div></div></div></div></div></div></div><div class=\"sk-item\"><div class=\"sk-estimator sk-toggleable\"><input class=\"sk-toggleable__control sk-hidden--visually\" id=\"sk-estimator-id-28\" type=\"checkbox\" ><label for=\"sk-estimator-id-28\" class=\"sk-toggleable__label sk-toggleable__label-arrow\">GradientBoostingClassifier</label><div class=\"sk-toggleable__content\"><pre>GradientBoostingClassifier(n_estimators=200, verbose=1)</pre></div></div></div></div></div></div></div>"
      ],
      "text/plain": [
       "Pipeline(steps=[('t',\n",
       "                 ColumnTransformer(transformers=[('c', OneHotEncoder(),\n",
       "                                                  Index(['workclass', 'marital-status', 'occupation', 'relationship', 'race',\n",
       "       'gender', 'native-country'],\n",
       "      dtype='object')),\n",
       "                                                 ('n', MinMaxScaler(),\n",
       "                                                  Index(['educational-num', 'capital-gain', 'capital-loss', 'hours-per-week'], dtype='object'))])),\n",
       "                ('m', GradientBoostingClassifier(n_estimators=200, verbose=1))])"
      ]
     },
     "execution_count": 78,
     "metadata": {},
     "output_type": "execute_result"
    }
   ],
   "source": [
    "pipeline.fit(X_train,y_train)"
   ]
  },
  {
   "cell_type": "code",
   "execution_count": 79,
   "id": "e3e838ec",
   "metadata": {},
   "outputs": [
    {
     "data": {
      "text/html": [
       "<div>\n",
       "<style scoped>\n",
       "    .dataframe tbody tr th:only-of-type {\n",
       "        vertical-align: middle;\n",
       "    }\n",
       "\n",
       "    .dataframe tbody tr th {\n",
       "        vertical-align: top;\n",
       "    }\n",
       "\n",
       "    .dataframe thead th {\n",
       "        text-align: right;\n",
       "    }\n",
       "</style>\n",
       "<table border=\"1\" class=\"dataframe\">\n",
       "  <thead>\n",
       "    <tr style=\"text-align: right;\">\n",
       "      <th></th>\n",
       "      <th>workclass</th>\n",
       "      <th>educational-num</th>\n",
       "      <th>marital-status</th>\n",
       "      <th>occupation</th>\n",
       "      <th>relationship</th>\n",
       "      <th>race</th>\n",
       "      <th>gender</th>\n",
       "      <th>capital-gain</th>\n",
       "      <th>capital-loss</th>\n",
       "      <th>hours-per-week</th>\n",
       "      <th>native-country</th>\n",
       "    </tr>\n",
       "  </thead>\n",
       "  <tbody>\n",
       "    <tr>\n",
       "      <th>0</th>\n",
       "      <td>Private</td>\n",
       "      <td>10</td>\n",
       "      <td>Married-civ-spouse</td>\n",
       "      <td>Handlers-cleaners</td>\n",
       "      <td>Husband</td>\n",
       "      <td>White</td>\n",
       "      <td>Male</td>\n",
       "      <td>0</td>\n",
       "      <td>0</td>\n",
       "      <td>20</td>\n",
       "      <td>United-States</td>\n",
       "    </tr>\n",
       "  </tbody>\n",
       "</table>\n",
       "</div>"
      ],
      "text/plain": [
       "  workclass educational-num      marital-status         occupation  \\\n",
       "0   Private              10  Married-civ-spouse  Handlers-cleaners   \n",
       "\n",
       "  relationship   race gender capital-gain capital-loss hours-per-week  \\\n",
       "0      Husband  White   Male            0            0             20   \n",
       "\n",
       "  native-country  \n",
       "0  United-States  "
      ]
     },
     "execution_count": 79,
     "metadata": {},
     "output_type": "execute_result"
    }
   ],
   "source": [
    "x=X_test.iloc[9].values\n",
    "x = x.reshape((1, -1))\n",
    "sample_df = pd.DataFrame(x, columns=X_test.columns)\n",
    "sample_df"
   ]
  },
  {
   "cell_type": "code",
   "execution_count": 80,
   "id": "6a1ac69e",
   "metadata": {},
   "outputs": [
    {
     "data": {
      "text/plain": [
       "array([[0.91071379, 0.08928621]])"
      ]
     },
     "execution_count": 80,
     "metadata": {},
     "output_type": "execute_result"
    }
   ],
   "source": [
    "pipeline.predict_proba(sample_df)"
   ]
  },
  {
   "cell_type": "code",
   "execution_count": 81,
   "id": "350068e0",
   "metadata": {},
   "outputs": [
    {
     "data": {
      "text/plain": [
       "0"
      ]
     },
     "execution_count": 81,
     "metadata": {},
     "output_type": "execute_result"
    }
   ],
   "source": [
    "y_test[0] # actual label"
   ]
  },
  {
   "attachments": {},
   "cell_type": "markdown",
   "id": "b4c6b9e0",
   "metadata": {},
   "source": [
    "y_test = 0 -> under $50k"
   ]
  },
  {
   "cell_type": "markdown",
   "id": "44ad374a",
   "metadata": {},
   "source": [
    "### Model evaluation"
   ]
  },
  {
   "cell_type": "code",
   "execution_count": 82,
   "id": "83094c45",
   "metadata": {},
   "outputs": [
    {
     "data": {
      "text/html": [
       "<div>\n",
       "<style scoped>\n",
       "    .dataframe tbody tr th:only-of-type {\n",
       "        vertical-align: middle;\n",
       "    }\n",
       "\n",
       "    .dataframe tbody tr th {\n",
       "        vertical-align: top;\n",
       "    }\n",
       "\n",
       "    .dataframe thead th {\n",
       "        text-align: right;\n",
       "    }\n",
       "</style>\n",
       "<table border=\"1\" class=\"dataframe\">\n",
       "  <thead>\n",
       "    <tr style=\"text-align: right;\">\n",
       "      <th></th>\n",
       "      <th>workclass</th>\n",
       "      <th>educational-num</th>\n",
       "      <th>marital-status</th>\n",
       "      <th>occupation</th>\n",
       "      <th>relationship</th>\n",
       "      <th>race</th>\n",
       "      <th>gender</th>\n",
       "      <th>capital-gain</th>\n",
       "      <th>capital-loss</th>\n",
       "      <th>hours-per-week</th>\n",
       "      <th>native-country</th>\n",
       "    </tr>\n",
       "    <tr>\n",
       "      <th>age</th>\n",
       "      <th></th>\n",
       "      <th></th>\n",
       "      <th></th>\n",
       "      <th></th>\n",
       "      <th></th>\n",
       "      <th></th>\n",
       "      <th></th>\n",
       "      <th></th>\n",
       "      <th></th>\n",
       "      <th></th>\n",
       "      <th></th>\n",
       "    </tr>\n",
       "  </thead>\n",
       "  <tbody>\n",
       "    <tr>\n",
       "      <th>19</th>\n",
       "      <td>Self-emp-not-inc</td>\n",
       "      <td>6</td>\n",
       "      <td>Married-spouse-absent</td>\n",
       "      <td>Adm-clerical</td>\n",
       "      <td>Unmarried</td>\n",
       "      <td>Amer-Indian-Eskimo</td>\n",
       "      <td>Female</td>\n",
       "      <td>0</td>\n",
       "      <td>0</td>\n",
       "      <td>40</td>\n",
       "      <td>United-States</td>\n",
       "    </tr>\n",
       "    <tr>\n",
       "      <th>45</th>\n",
       "      <td>Private</td>\n",
       "      <td>9</td>\n",
       "      <td>Married-civ-spouse</td>\n",
       "      <td>Farming-fishing</td>\n",
       "      <td>Husband</td>\n",
       "      <td>Amer-Indian-Eskimo</td>\n",
       "      <td>Male</td>\n",
       "      <td>0</td>\n",
       "      <td>0</td>\n",
       "      <td>40</td>\n",
       "      <td>United-States</td>\n",
       "    </tr>\n",
       "    <tr>\n",
       "      <th>47</th>\n",
       "      <td>Private</td>\n",
       "      <td>11</td>\n",
       "      <td>Married-civ-spouse</td>\n",
       "      <td>Craft-repair</td>\n",
       "      <td>Husband</td>\n",
       "      <td>White</td>\n",
       "      <td>Male</td>\n",
       "      <td>0</td>\n",
       "      <td>0</td>\n",
       "      <td>40</td>\n",
       "      <td>United-States</td>\n",
       "    </tr>\n",
       "    <tr>\n",
       "      <th>23</th>\n",
       "      <td>Private</td>\n",
       "      <td>10</td>\n",
       "      <td>Never-married</td>\n",
       "      <td>Craft-repair</td>\n",
       "      <td>Other-relative</td>\n",
       "      <td>White</td>\n",
       "      <td>Male</td>\n",
       "      <td>0</td>\n",
       "      <td>0</td>\n",
       "      <td>40</td>\n",
       "      <td>United-States</td>\n",
       "    </tr>\n",
       "    <tr>\n",
       "      <th>53</th>\n",
       "      <td>Local-gov</td>\n",
       "      <td>9</td>\n",
       "      <td>Married-civ-spouse</td>\n",
       "      <td>Craft-repair</td>\n",
       "      <td>Husband</td>\n",
       "      <td>White</td>\n",
       "      <td>Male</td>\n",
       "      <td>0</td>\n",
       "      <td>0</td>\n",
       "      <td>40</td>\n",
       "      <td>United-States</td>\n",
       "    </tr>\n",
       "  </tbody>\n",
       "</table>\n",
       "</div>"
      ],
      "text/plain": [
       "            workclass  educational-num         marital-status  \\\n",
       "age                                                             \n",
       "19   Self-emp-not-inc                6  Married-spouse-absent   \n",
       "45            Private                9     Married-civ-spouse   \n",
       "47            Private               11     Married-civ-spouse   \n",
       "23            Private               10          Never-married   \n",
       "53          Local-gov                9     Married-civ-spouse   \n",
       "\n",
       "          occupation    relationship                race  gender  \\\n",
       "age                                                                \n",
       "19      Adm-clerical       Unmarried  Amer-Indian-Eskimo  Female   \n",
       "45   Farming-fishing         Husband  Amer-Indian-Eskimo    Male   \n",
       "47      Craft-repair         Husband               White    Male   \n",
       "23      Craft-repair  Other-relative               White    Male   \n",
       "53      Craft-repair         Husband               White    Male   \n",
       "\n",
       "     capital-gain  capital-loss  hours-per-week native-country  \n",
       "age                                                             \n",
       "19              0             0              40  United-States  \n",
       "45              0             0              40  United-States  \n",
       "47              0             0              40  United-States  \n",
       "23              0             0              40  United-States  \n",
       "53              0             0              40  United-States  "
      ]
     },
     "execution_count": 82,
     "metadata": {},
     "output_type": "execute_result"
    }
   ],
   "source": [
    "X_test.head()"
   ]
  },
  {
   "cell_type": "code",
   "execution_count": 83,
   "id": "dd83e593",
   "metadata": {},
   "outputs": [
    {
     "data": {
      "text/plain": [
       "0.8688778330569376"
      ]
     },
     "execution_count": 83,
     "metadata": {},
     "output_type": "execute_result"
    }
   ],
   "source": [
    "accuracy_score(pipeline.predict(X_test), y_test)"
   ]
  },
  {
   "cell_type": "code",
   "execution_count": 84,
   "id": "fc072534",
   "metadata": {},
   "outputs": [
    {
     "data": {
      "text/plain": [
       "0.8658816375044918"
      ]
     },
     "execution_count": 84,
     "metadata": {},
     "output_type": "execute_result"
    }
   ],
   "source": [
    "accuracy_score(pipeline.predict(X_train), y_train)"
   ]
  },
  {
   "cell_type": "code",
   "execution_count": 85,
   "id": "66c4f05e",
   "metadata": {},
   "outputs": [],
   "source": [
    "with open('../pretrained_models/pipeline_adult.pkl','wb') as f:\n",
    "    pickle.dump(pipeline,f)"
   ]
  },
  {
   "cell_type": "code",
   "execution_count": 86,
   "id": "10e09a25",
   "metadata": {},
   "outputs": [],
   "source": [
    "with open('../pretrained_models/pipeline_adult.pkl', 'wb') as f:\n",
    "    pickle.dump(pipeline, f)"
   ]
  },
  {
   "cell_type": "code",
   "execution_count": 87,
   "id": "53687d36",
   "metadata": {},
   "outputs": [
    {
     "data": {
      "text/plain": [
       "array([0, 0, 0, ..., 0, 0, 0])"
      ]
     },
     "execution_count": 87,
     "metadata": {},
     "output_type": "execute_result"
    }
   ],
   "source": [
    "pipeline.predict(X_test)"
   ]
  },
  {
   "cell_type": "markdown",
   "id": "e2ff30c7",
   "metadata": {},
   "source": [
    "# User case 1"
   ]
  },
  {
   "cell_type": "code",
   "execution_count": 88,
   "id": "26d974c2",
   "metadata": {},
   "outputs": [],
   "source": [
    "ashley = {'age': 30,\n",
    "          'workclass': 'Self-emp-not-inc',\n",
    "          'educational-num': 10,\n",
    "          'marital-status': 'Never-married',\n",
    "          'occupation': 'Sales', # so she is a cashier, or independent consultant for Oriflame\n",
    "          'relationship': 'Own-child',\n",
    "          'race': 'White',\n",
    "          'gender': 'Female',\n",
    "          'capital-gain': 0,\n",
    "          'capital-loss': 0,\n",
    "          'hours-per-week': 25,\n",
    "          'native-country': 'United-States'}\n",
    "ashley_df = pd.DataFrame(ashley, index=[0])"
   ]
  },
  {
   "cell_type": "code",
   "execution_count": 89,
   "id": "3864f889",
   "metadata": {},
   "outputs": [
    {
     "data": {
      "text/plain": [
       "array([[0.99449592, 0.00550408]])"
      ]
     },
     "execution_count": 89,
     "metadata": {},
     "output_type": "execute_result"
    }
   ],
   "source": [
    "pipeline.predict_proba(ashley_df)"
   ]
  },
  {
   "cell_type": "markdown",
   "id": "a221058a",
   "metadata": {},
   "source": [
    "So the Ashley is destined to be poor ?"
   ]
  },
  {
   "cell_type": "code",
   "execution_count": 90,
   "id": "1644078d",
   "metadata": {},
   "outputs": [],
   "source": [
    "ashley_df['workclass'] ='Self-emp-inc'\n",
    "ashley_df['occupation'] ='Prof-specialty'\n",
    "ashley_df['educational-num'] = 12\n",
    "ashley_df['hours-per-week'] = 50\n",
    "ashley_df['age'] = 32\n",
    "ashley_df['gender'] = 'Female'\n",
    "ashley_df['capital-gain']=5120 # 5119 is much less\n",
    "ashley_df['marital-status'] = 'Married-AF-spouse'\n",
    "ashley_df['relationship'] = 'Own-child'"
   ]
  },
  {
   "cell_type": "code",
   "execution_count": 91,
   "id": "608c6925",
   "metadata": {},
   "outputs": [
    {
     "data": {
      "text/plain": [
       "array([[0.67787233, 0.32212767]])"
      ]
     },
     "execution_count": 91,
     "metadata": {},
     "output_type": "execute_result"
    }
   ],
   "source": [
    "pipeline.predict_proba(ashley_df)"
   ]
  }
 ],
 "metadata": {
  "kernelspec": {
   "display_name": "Python 3 (ipykernel)",
   "language": "python",
   "name": "python3"
  },
  "language_info": {
   "codemirror_mode": {
    "name": "ipython",
    "version": 3
   },
   "file_extension": ".py",
   "mimetype": "text/x-python",
   "name": "python",
   "nbconvert_exporter": "python",
   "pygments_lexer": "ipython3",
   "version": "3.9.12"
  }
 },
 "nbformat": 4,
 "nbformat_minor": 5
}
