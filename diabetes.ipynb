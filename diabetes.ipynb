{
 "cells": [
  {
   "cell_type": "code",
   "execution_count": 112,
   "id": "454c933e",
   "metadata": {},
   "outputs": [],
   "source": [
    "import numpy as np\n",
    "import pandas as pd\n",
    "from sklearn.preprocessing import StandardScaler\n",
    "from sklearn.model_selection import train_test_split\n",
    "from sklearn import svm\n",
    "from sklearn.metrics import accuracy_score\n",
    "import numpy as np \n",
    "import matplotlib.pyplot as plt\n",
    "from matplotlib.patches import ConnectionPatch\n",
    "import scipy.stats"
   ]
  },
  {
   "cell_type": "code",
   "execution_count": 113,
   "id": "789263ea",
   "metadata": {},
   "outputs": [
    {
     "data": {
      "text/plain": [
       "(768, 9)"
      ]
     },
     "execution_count": 113,
     "metadata": {},
     "output_type": "execute_result"
    }
   ],
   "source": [
    "df = pd.read_csv('diabetes.csv')\n",
    "df.shape"
   ]
  },
  {
   "cell_type": "code",
   "execution_count": 114,
   "id": "b6504879",
   "metadata": {},
   "outputs": [],
   "source": [
    "X = df.drop(columns = 'Outcome')\n",
    "y = df['Outcome']"
   ]
  },
  {
   "cell_type": "code",
   "execution_count": 115,
   "id": "faf7666f",
   "metadata": {},
   "outputs": [],
   "source": [
    "scaler = StandardScaler()\n",
    "scaler.fit(X)\n",
    "X_transformed = scaler.transform(X)\n",
    "X_train, X_test, y_train, y_test = train_test_split(X_transformed, y, test_size = 0.1, stratify = y, random_state=42)"
   ]
  },
  {
   "cell_type": "code",
   "execution_count": 116,
   "id": "aa5e7986",
   "metadata": {},
   "outputs": [
    {
     "data": {
      "text/html": [
       "<style>#sk-container-id-8 {color: black;background-color: white;}#sk-container-id-8 pre{padding: 0;}#sk-container-id-8 div.sk-toggleable {background-color: white;}#sk-container-id-8 label.sk-toggleable__label {cursor: pointer;display: block;width: 100%;margin-bottom: 0;padding: 0.3em;box-sizing: border-box;text-align: center;}#sk-container-id-8 label.sk-toggleable__label-arrow:before {content: \"▸\";float: left;margin-right: 0.25em;color: #696969;}#sk-container-id-8 label.sk-toggleable__label-arrow:hover:before {color: black;}#sk-container-id-8 div.sk-estimator:hover label.sk-toggleable__label-arrow:before {color: black;}#sk-container-id-8 div.sk-toggleable__content {max-height: 0;max-width: 0;overflow: hidden;text-align: left;background-color: #f0f8ff;}#sk-container-id-8 div.sk-toggleable__content pre {margin: 0.2em;color: black;border-radius: 0.25em;background-color: #f0f8ff;}#sk-container-id-8 input.sk-toggleable__control:checked~div.sk-toggleable__content {max-height: 200px;max-width: 100%;overflow: auto;}#sk-container-id-8 input.sk-toggleable__control:checked~label.sk-toggleable__label-arrow:before {content: \"▾\";}#sk-container-id-8 div.sk-estimator input.sk-toggleable__control:checked~label.sk-toggleable__label {background-color: #d4ebff;}#sk-container-id-8 div.sk-label input.sk-toggleable__control:checked~label.sk-toggleable__label {background-color: #d4ebff;}#sk-container-id-8 input.sk-hidden--visually {border: 0;clip: rect(1px 1px 1px 1px);clip: rect(1px, 1px, 1px, 1px);height: 1px;margin: -1px;overflow: hidden;padding: 0;position: absolute;width: 1px;}#sk-container-id-8 div.sk-estimator {font-family: monospace;background-color: #f0f8ff;border: 1px dotted black;border-radius: 0.25em;box-sizing: border-box;margin-bottom: 0.5em;}#sk-container-id-8 div.sk-estimator:hover {background-color: #d4ebff;}#sk-container-id-8 div.sk-parallel-item::after {content: \"\";width: 100%;border-bottom: 1px solid gray;flex-grow: 1;}#sk-container-id-8 div.sk-label:hover label.sk-toggleable__label {background-color: #d4ebff;}#sk-container-id-8 div.sk-serial::before {content: \"\";position: absolute;border-left: 1px solid gray;box-sizing: border-box;top: 0;bottom: 0;left: 50%;z-index: 0;}#sk-container-id-8 div.sk-serial {display: flex;flex-direction: column;align-items: center;background-color: white;padding-right: 0.2em;padding-left: 0.2em;position: relative;}#sk-container-id-8 div.sk-item {position: relative;z-index: 1;}#sk-container-id-8 div.sk-parallel {display: flex;align-items: stretch;justify-content: center;background-color: white;position: relative;}#sk-container-id-8 div.sk-item::before, #sk-container-id-8 div.sk-parallel-item::before {content: \"\";position: absolute;border-left: 1px solid gray;box-sizing: border-box;top: 0;bottom: 0;left: 50%;z-index: -1;}#sk-container-id-8 div.sk-parallel-item {display: flex;flex-direction: column;z-index: 1;position: relative;background-color: white;}#sk-container-id-8 div.sk-parallel-item:first-child::after {align-self: flex-end;width: 50%;}#sk-container-id-8 div.sk-parallel-item:last-child::after {align-self: flex-start;width: 50%;}#sk-container-id-8 div.sk-parallel-item:only-child::after {width: 0;}#sk-container-id-8 div.sk-dashed-wrapped {border: 1px dashed gray;margin: 0 0.4em 0.5em 0.4em;box-sizing: border-box;padding-bottom: 0.4em;background-color: white;}#sk-container-id-8 div.sk-label label {font-family: monospace;font-weight: bold;display: inline-block;line-height: 1.2em;}#sk-container-id-8 div.sk-label-container {text-align: center;}#sk-container-id-8 div.sk-container {/* jupyter's `normalize.less` sets `[hidden] { display: none; }` but bootstrap.min.css set `[hidden] { display: none !important; }` so we also need the `!important` here to be able to override the default hidden behavior on the sphinx rendered scikit-learn.org. See: https://github.com/scikit-learn/scikit-learn/issues/21755 */display: inline-block !important;position: relative;}#sk-container-id-8 div.sk-text-repr-fallback {display: none;}</style><div id=\"sk-container-id-8\" class=\"sk-top-container\"><div class=\"sk-text-repr-fallback\"><pre>SVC(kernel=&#x27;linear&#x27;, probability=True)</pre><b>In a Jupyter environment, please rerun this cell to show the HTML representation or trust the notebook. <br />On GitHub, the HTML representation is unable to render, please try loading this page with nbviewer.org.</b></div><div class=\"sk-container\" hidden><div class=\"sk-item\"><div class=\"sk-estimator sk-toggleable\"><input class=\"sk-toggleable__control sk-hidden--visually\" id=\"sk-estimator-id-8\" type=\"checkbox\" checked><label for=\"sk-estimator-id-8\" class=\"sk-toggleable__label sk-toggleable__label-arrow\">SVC</label><div class=\"sk-toggleable__content\"><pre>SVC(kernel=&#x27;linear&#x27;, probability=True)</pre></div></div></div></div></div>"
      ],
      "text/plain": [
       "SVC(kernel='linear', probability=True)"
      ]
     },
     "execution_count": 116,
     "metadata": {},
     "output_type": "execute_result"
    }
   ],
   "source": [
    "model = svm.SVC(kernel=\"linear\", probability=True)\n",
    "model.fit(X_train, y_train)"
   ]
  },
  {
   "cell_type": "code",
   "execution_count": 117,
   "id": "0e7c519a",
   "metadata": {},
   "outputs": [
    {
     "name": "stdout",
     "output_type": "stream",
     "text": [
      "Accuracy score for train data is 0.7771345875542692\n",
      "Accuracy score for test data is 0.7402597402597403\n"
     ]
    }
   ],
   "source": [
    "acc_score = accuracy_score(model.predict(X_train), y_train)\n",
    "print(f\"Accuracy score for train data is {acc_score}\")\n",
    "acc_score = accuracy_score(model.predict(X_test), y_test)\n",
    "print(f\"Accuracy score for test data is {acc_score}\")"
   ]
  },
  {
   "cell_type": "code",
   "execution_count": 118,
   "id": "9fa793af",
   "metadata": {},
   "outputs": [],
   "source": [
    "# to numpy array\n",
    "X = X_train\n",
    "Y = y_train\n",
    "classifier = model # or regressor"
   ]
  },
  {
   "cell_type": "code",
   "execution_count": 119,
   "id": "1736775d",
   "metadata": {},
   "outputs": [],
   "source": [
    "def plot_probability_surface(classifier, levels=20, points=True):\n",
    "    xx, yy = np.meshgrid(np.linspace(5, 30, 500), np.linspace(5, 45, 500))\n",
    "    Z = classifier.predict_proba(np.c_[xx.ravel(), yy.ravel()])[:, 1]\n",
    "    Z = Z.reshape(xx.shape)\n",
    "    fig, axis = plt.subplots(1, 1, figsize=(10, 10))\n",
    "    axis.contourf(xx, yy, Z, alpha=0.75, cmap='bone', vmin=0, vmax=1, levels=levels)\n",
    "    if points:\n",
    "        axis.scatter(X[:, 0], X[:, 1], c=Y, s=15,\n",
    "                    cmap='bone', edgecolors='black', linewidth=.5)\n",
    "    axis.axis('off')\n",
    "    return axis\n",
    "# ax = plot_probability_surface(classifier) # cant plot for 8 features atm"
   ]
  },
  {
   "cell_type": "code",
   "execution_count": 120,
   "id": "11b75f1a",
   "metadata": {},
   "outputs": [],
   "source": [
    "def cost_function(x_prime, x, y_prime, lambda_value, model, X):\n",
    "    mad =  scipy.stats.median_abs_deviation(X, axis=0)\n",
    "    distance = np.sum(np.abs(x-x_prime)/mad)\n",
    "    misfit = (model(x_prime, y_prime)-y_prime)**2\n",
    "    return lambda_value * misfit + distance"
   ]
  },
  {
   "cell_type": "code",
   "execution_count": 121,
   "id": "55126f60",
   "metadata": {},
   "outputs": [],
   "source": [
    "def evaluate_model(x, y_prime):\n",
    "    # round the y_prime value to provide the right class [0,1]\n",
    "    # predicted_prob = classifier.predict_proba(x.reshape((1, -1)))[0,int(np.round(y_prime))]\n",
    "    predicted_prob = classifier.predict_proba(x.reshape((1, -1)))[0][0]\n",
    "    #print(predicted_prob)\n",
    "    round_res = predicted_prob = classifier.predict_proba(x.reshape((1, -1)))[0,int(np.round(y_prime))]\n",
    "    print(f'y_prime: {y_prime}, predicted_prob: {predicted_prob}, round_res: {round_res}')\n",
    "    return predicted_prob"
   ]
  },
  {
   "cell_type": "code",
   "execution_count": 122,
   "id": "8ccc268b",
   "metadata": {},
   "outputs": [],
   "source": [
    "def get_counterfactuals(x, y_prime_target, model):\n",
    "    eps = .05 # tolerance\n",
    "    lambda_min =  1e-10\n",
    "    lambda_max = 1e5\n",
    "    lambda_steps = 30\n",
    "    lambdas = np.logspace(np.log10(lambda_min), \n",
    "                            np.log10(lambda_max), \n",
    "                            lambda_steps)\n",
    "    # scan over lambda\n",
    "    candidates = []\n",
    "    Y_primes = []\n",
    "    for lambda_k in lambdas:\n",
    "        arguments = x, y_prime_target, lambda_k, model, X\n",
    "        # optimise the cost function -- assuming here it's smooth\n",
    "        solution = scipy.optimize.minimize(cost_function, \n",
    "                                           x, # start from our current observation\n",
    "                                           args=arguments)\n",
    "        x_prime_hat = solution.x\n",
    "        Y_primes.append(model(x_prime_hat, y_prime_target))\n",
    "        candidates.append(x_prime_hat)\n",
    "    Y_primes = np.array(Y_primes)\n",
    "    candidates = np.array(candidates)\n",
    "    # check if any counterfactual candidates meet the tolerance condition\n",
    "    eps_condition = np.abs(Y_primes - y_prime_target) <= eps\n",
    "    # plot y_primes over lambda\n",
    "    #print(Y_primes)\n",
    "    # plot y_primes over lambda. use log scale for lambda\n",
    "    plt.plot(np.log10(lambdas), Y_primes)\n",
    "    plt.show()\n",
    "    return candidates[eps_condition]"
   ]
  },
  {
   "cell_type": "code",
   "execution_count": 123,
   "id": "c77e0d01",
   "metadata": {},
   "outputs": [
    {
     "name": "stdout",
     "output_type": "stream",
     "text": [
      "instance 1 has features [-0.84488505 -1.02950492 -2.02166474  1.34636635  0.16671612  2.92008462\n",
      "  0.07285643 -0.61611067] and label 0\n",
      "model prediction:  [0]\n",
      "model probability:  [[0.51650423 0.48349577]]\n"
     ]
    }
   ],
   "source": [
    "instance = 1\n",
    "print(f'instance {instance} has features {X[instance]} and label {Y[instance]}')\n",
    "print('model prediction: ', classifier.predict(X[instance].reshape(1, -1)))\n",
    "print('model probability: ', classifier.predict_proba(X[instance].reshape(1, -1)))"
   ]
  },
  {
   "cell_type": "code",
   "execution_count": 124,
   "id": "ce5e6a1c",
   "metadata": {},
   "outputs": [
    {
     "name": "stdout",
     "output_type": "stream",
     "text": [
      "y_prime: 0.1, predicted_prob: 0.5165042284236109, round_res: 0.5165042284236109\n",
      "y_prime: 0.1, predicted_prob: 0.5165042271052652, round_res: 0.5165042271052652\n",
      "y_prime: 0.1, predicted_prob: 0.516504224422801, round_res: 0.516504224422801\n",
      "y_prime: 0.1, predicted_prob: 0.5165042292293752, round_res: 0.5165042292293752\n",
      "y_prime: 0.1, predicted_prob: 0.5165042288524074, round_res: 0.5165042288524074\n",
      "y_prime: 0.1, predicted_prob: 0.5165042284665066, round_res: 0.5165042284665066\n",
      "y_prime: 0.1, predicted_prob: 0.5165042260194092, round_res: 0.5165042260194092\n",
      "y_prime: 0.1, predicted_prob: 0.5165042274947258, round_res: 0.5165042274947258\n",
      "y_prime: 0.1, predicted_prob: 0.5165042281628685, round_res: 0.5165042281628685\n",
      "y_prime: 0.1, predicted_prob: 0.6584036811546373, round_res: 0.6584036811546373\n",
      "y_prime: 0.1, predicted_prob: 0.6584036800349328, round_res: 0.6584036800349328\n",
      "y_prime: 0.1, predicted_prob: 0.6584036777565934, round_res: 0.6584036777565934\n",
      "y_prime: 0.1, predicted_prob: 0.658403681839009, round_res: 0.658403681839009\n",
      "y_prime: 0.1, predicted_prob: 0.6584036815188489, round_res: 0.6584036815188489\n",
      "y_prime: 0.1, predicted_prob: 0.6584036811910667, round_res: 0.6584036811910667\n",
      "y_prime: 0.1, predicted_prob: 0.6584036791126711, round_res: 0.6584036791126711\n",
      "y_prime: 0.1, predicted_prob: 0.6584036803657137, round_res: 0.6584036803657137\n",
      "y_prime: 0.1, predicted_prob: 0.6584036809331991, round_res: 0.6584036809331991\n",
      "y_prime: 0.1, predicted_prob: 0.5374706738592623, round_res: 0.5374706738592623\n",
      "y_prime: 0.1, predicted_prob: 0.5374706725486634, round_res: 0.5374706725486634\n",
      "y_prime: 0.1, predicted_prob: 0.5374706698820331, round_res: 0.5374706698820331\n",
      "y_prime: 0.1, predicted_prob: 0.5374706746602571, round_res: 0.5374706746602571\n",
      "y_prime: 0.1, predicted_prob: 0.5374706742855299, round_res: 0.5374706742855299\n",
      "y_prime: 0.1, predicted_prob: 0.5374706739019041, round_res: 0.5374706739019041\n",
      "y_prime: 0.1, predicted_prob: 0.5374706714692368, round_res: 0.5374706714692368\n",
      "y_prime: 0.1, predicted_prob: 0.5374706729358414, round_res: 0.5374706729358414\n",
      "y_prime: 0.1, predicted_prob: 0.5374706736000301, round_res: 0.5374706736000301\n",
      "y_prime: 0.1, predicted_prob: 0.5194381826005955, round_res: 0.5194381826005955\n",
      "y_prime: 0.1, predicted_prob: 0.5194381812829135, round_res: 0.5194381812829135\n",
      "y_prime: 0.1, predicted_prob: 0.5194381786018166, round_res: 0.5194381786018166\n",
      "y_prime: 0.1, predicted_prob: 0.5194381834059535, round_res: 0.5194381834059535\n",
      "y_prime: 0.1, predicted_prob: 0.5194381830291839, round_res: 0.5194381830291839\n",
      "y_prime: 0.1, predicted_prob: 0.5194381826434737, round_res: 0.5194381826434737\n",
      "y_prime: 0.1, predicted_prob: 0.5194381801976292, round_res: 0.5194381801976292\n",
      "y_prime: 0.1, predicted_prob: 0.519438181672171, round_res: 0.519438181672171\n",
      "y_prime: 0.1, predicted_prob: 0.5194381823399933, round_res: 0.5194381823399933\n",
      "y_prime: 0.1, predicted_prob: 0.5169139556747122, round_res: 0.5169139556747122\n",
      "y_prime: 0.1, predicted_prob: 0.5169139543564327, round_res: 0.5169139543564327\n",
      "y_prime: 0.1, predicted_prob: 0.5169139516741615, round_res: 0.5169139516741615\n",
      "y_prime: 0.1, predicted_prob: 0.5169139564804167, round_res: 0.5169139564804167\n",
      "y_prime: 0.1, predicted_prob: 0.5169139561034788, round_res: 0.5169139561034788\n",
      "y_prime: 0.1, predicted_prob: 0.5169139557175932, round_res: 0.5169139557175932\n",
      "y_prime: 0.1, predicted_prob: 0.516913953270671, round_res: 0.516913953270671\n",
      "y_prime: 0.1, predicted_prob: 0.5169139547458733, round_res: 0.5169139547458733\n",
      "y_prime: 0.1, predicted_prob: 0.516913955413973, round_res: 0.516913955413973\n",
      "y_prime: 0.1, predicted_prob: 0.5165614363002256, round_res: 0.5165614363002256\n",
      "y_prime: 0.1, predicted_prob: 0.516561434981874, round_res: 0.516561434981874\n",
      "y_prime: 0.1, predicted_prob: 0.5165614322994343, round_res: 0.5165614322994343\n",
      "y_prime: 0.1, predicted_prob: 0.5165614371059629, round_res: 0.5165614371059629\n",
      "y_prime: 0.1, predicted_prob: 0.516561436729022, round_res: 0.516561436729022\n",
      "y_prime: 0.1, predicted_prob: 0.5165614363431076, round_res: 0.5165614363431076\n",
      "y_prime: 0.1, predicted_prob: 0.5165614338960429, round_res: 0.5165614338960429\n",
      "y_prime: 0.1, predicted_prob: 0.5165614353713446, round_res: 0.5165614353713446\n",
      "y_prime: 0.1, predicted_prob: 0.5165614360394776, round_res: 0.5165614360394776\n",
      "y_prime: 0.1, predicted_prob: 0.5165122158405222, round_res: 0.5165122158405222\n",
      "y_prime: 0.1, predicted_prob: 0.5165122145221495, round_res: 0.5165122145221495\n",
      "y_prime: 0.1, predicted_prob: 0.5165122118397115, round_res: 0.5165122118397115\n",
      "y_prime: 0.1, predicted_prob: 0.51651221664627, round_res: 0.51651221664627\n",
      "y_prime: 0.1, predicted_prob: 0.5165122162693325, round_res: 0.5165122162693325\n",
      "y_prime: 0.1, predicted_prob: 0.5165122158834196, round_res: 0.5165122158834196\n",
      "y_prime: 0.1, predicted_prob: 0.5165122134363271, round_res: 0.5165122134363271\n",
      "y_prime: 0.1, predicted_prob: 0.5165122149116225, round_res: 0.5165122149116225\n",
      "y_prime: 0.1, predicted_prob: 0.5165122155797637, round_res: 0.5165122155797637\n",
      "y_prime: 0.1, predicted_prob: 0.5165053436304694, round_res: 0.5165053436304694\n",
      "y_prime: 0.1, predicted_prob: 0.5165053423121211, round_res: 0.5165053423121211\n",
      "y_prime: 0.1, predicted_prob: 0.5165053396296605, round_res: 0.5165053396296605\n",
      "y_prime: 0.1, predicted_prob: 0.5165053444362392, round_res: 0.5165053444362392\n",
      "y_prime: 0.1, predicted_prob: 0.5165053440592856, round_res: 0.5165053440592856\n",
      "y_prime: 0.1, predicted_prob: 0.5165053436733645, round_res: 0.5165053436733645\n",
      "y_prime: 0.1, predicted_prob: 0.5165053412262792, round_res: 0.5165053412262792\n",
      "y_prime: 0.1, predicted_prob: 0.5165053427015875, round_res: 0.5165053427015875\n",
      "y_prime: 0.1, predicted_prob: 0.5165053433697248, round_res: 0.5165053433697248\n",
      "y_prime: 0.1, predicted_prob: 0.5165043841292576, round_res: 0.5165043841292576\n",
      "y_prime: 0.1, predicted_prob: 0.5165043828108964, round_res: 0.5165043828108964\n",
      "y_prime: 0.1, predicted_prob: 0.5165043801284359, round_res: 0.5165043801284359\n",
      "y_prime: 0.1, predicted_prob: 0.5165043849350048, round_res: 0.5165043849350048\n",
      "y_prime: 0.1, predicted_prob: 0.5165043845580483, round_res: 0.5165043845580483\n",
      "y_prime: 0.1, predicted_prob: 0.5165043841721467, round_res: 0.5165043841721467\n",
      "y_prime: 0.1, predicted_prob: 0.5165043817250471, round_res: 0.5165043817250471\n",
      "y_prime: 0.1, predicted_prob: 0.5165043832003569, round_res: 0.5165043832003569\n",
      "y_prime: 0.1, predicted_prob: 0.5165043838684997, round_res: 0.5165043838684997\n",
      "y_prime: 0.1, predicted_prob: 0.5165042501632962, round_res: 0.5165042501632962\n",
      "y_prime: 0.1, predicted_prob: 0.5165042488449237, round_res: 0.5165042488449237\n",
      "y_prime: 0.1, predicted_prob: 0.5165042461624786, round_res: 0.5165042461624786\n",
      "y_prime: 0.1, predicted_prob: 0.5165042509690577, round_res: 0.5165042509690577\n",
      "y_prime: 0.1, predicted_prob: 0.516504250592089, round_res: 0.516504250592089\n",
      "y_prime: 0.1, predicted_prob: 0.5165042502061712, round_res: 0.5165042502061712\n",
      "y_prime: 0.1, predicted_prob: 0.5165042477591005, round_res: 0.5165042477591005\n",
      "y_prime: 0.1, predicted_prob: 0.5165042492343916, round_res: 0.5165042492343916\n",
      "y_prime: 0.1, predicted_prob: 0.5165042499025464, round_res: 0.5165042499025464\n",
      "y_prime: 0.1, predicted_prob: 0.5165042314589384, round_res: 0.5165042314589384\n",
      "y_prime: 0.1, predicted_prob: 0.5165042301405696, round_res: 0.5165042301405696\n",
      "y_prime: 0.1, predicted_prob: 0.5165042274581078, round_res: 0.5165042274581078\n",
      "y_prime: 0.1, predicted_prob: 0.5165042322646779, round_res: 0.5165042322646779\n",
      "y_prime: 0.1, predicted_prob: 0.5165042318877107, round_res: 0.5165042318877107\n",
      "y_prime: 0.1, predicted_prob: 0.516504231501819, round_res: 0.516504231501819\n",
      "y_prime: 0.1, predicted_prob: 0.5165042290547238, round_res: 0.5165042290547238\n",
      "y_prime: 0.1, predicted_prob: 0.5165042305300289, round_res: 0.5165042305300289\n",
      "y_prime: 0.1, predicted_prob: 0.5165042311981738, round_res: 0.5165042311981738\n",
      "y_prime: 0.1, predicted_prob: 0.516504228765078, round_res: 0.516504228765078\n",
      "y_prime: 0.1, predicted_prob: 0.5165042274467272, round_res: 0.5165042274467272\n",
      "y_prime: 0.1, predicted_prob: 0.5165042247642773, round_res: 0.5165042247642773\n",
      "y_prime: 0.1, predicted_prob: 0.516504229570852, round_res: 0.516504229570852\n",
      "y_prime: 0.1, predicted_prob: 0.5165042291938875, round_res: 0.5165042291938875\n",
      "y_prime: 0.1, predicted_prob: 0.5165042288079735, round_res: 0.5165042288079735\n",
      "y_prime: 0.1, predicted_prob: 0.5165042263608781, round_res: 0.5165042263608781\n",
      "y_prime: 0.1, predicted_prob: 0.5165042278361891, round_res: 0.5165042278361891\n",
      "y_prime: 0.1, predicted_prob: 0.5165042285043412, round_res: 0.5165042285043412\n",
      "y_prime: 0.1, predicted_prob: 0.5165042284556163, round_res: 0.5165042284556163\n",
      "y_prime: 0.1, predicted_prob: 0.5165042271372549, round_res: 0.5165042271372549\n",
      "y_prime: 0.1, predicted_prob: 0.5165042244548008, round_res: 0.5165042244548008\n",
      "y_prime: 0.1, predicted_prob: 0.5165042292613822, round_res: 0.5165042292613822\n",
      "y_prime: 0.1, predicted_prob: 0.5165042288844146, round_res: 0.5165042288844146\n",
      "y_prime: 0.1, predicted_prob: 0.5165042284985052, round_res: 0.5165042284985052\n",
      "y_prime: 0.1, predicted_prob: 0.5165042260514027, round_res: 0.5165042260514027\n",
      "y_prime: 0.1, predicted_prob: 0.5165042275267351, round_res: 0.5165042275267351\n",
      "y_prime: 0.1, predicted_prob: 0.5165042281948631, round_res: 0.5165042281948631\n",
      "y_prime: 0.1, predicted_prob: 0.5165042284265614, round_res: 0.5165042284265614\n",
      "y_prime: 0.1, predicted_prob: 0.5165042271081941, round_res: 0.5165042271081941\n",
      "y_prime: 0.1, predicted_prob: 0.5165042244257382, round_res: 0.5165042244257382\n",
      "y_prime: 0.1, predicted_prob: 0.5165042292323253, round_res: 0.5165042292323253\n",
      "y_prime: 0.1, predicted_prob: 0.5165042288553496, round_res: 0.5165042288553496\n",
      "y_prime: 0.1, predicted_prob: 0.5165042284694495, round_res: 0.5165042284694495\n",
      "y_prime: 0.1, predicted_prob: 0.5165042260223638, round_res: 0.5165042260223638\n",
      "y_prime: 0.1, predicted_prob: 0.516504227497664, round_res: 0.516504227497664\n",
      "y_prime: 0.1, predicted_prob: 0.5165042281658021, round_res: 0.5165042281658021\n",
      "y_prime: 0.1, predicted_prob: 0.5165042284238884, round_res: 0.5165042284238884\n",
      "y_prime: 0.1, predicted_prob: 0.5165042271055329, round_res: 0.5165042271055329\n",
      "y_prime: 0.1, predicted_prob: 0.5165042244230801, round_res: 0.5165042244230801\n",
      "y_prime: 0.1, predicted_prob: 0.5165042292296446, round_res: 0.5165042292296446\n",
      "y_prime: 0.1, predicted_prob: 0.5165042288526864, round_res: 0.5165042288526864\n",
      "y_prime: 0.1, predicted_prob: 0.5165042284667765, round_res: 0.5165042284667765\n",
      "y_prime: 0.1, predicted_prob: 0.5165042260196865, round_res: 0.5165042260196865\n",
      "y_prime: 0.1, predicted_prob: 0.516504227494993, round_res: 0.516504227494993\n",
      "y_prime: 0.1, predicted_prob: 0.5165042281631343, round_res: 0.5165042281631343\n",
      "y_prime: 0.1, predicted_prob: 0.5165042284236341, round_res: 0.5165042284236341\n",
      "y_prime: 0.1, predicted_prob: 0.5165042271052874, round_res: 0.5165042271052874\n",
      "y_prime: 0.1, predicted_prob: 0.5165042244228322, round_res: 0.5165042244228322\n",
      "y_prime: 0.1, predicted_prob: 0.5165042292293999, round_res: 0.5165042292293999\n",
      "y_prime: 0.1, predicted_prob: 0.5165042288524316, round_res: 0.5165042288524316\n",
      "y_prime: 0.1, predicted_prob: 0.516504228466509, round_res: 0.516504228466509\n",
      "y_prime: 0.1, predicted_prob: 0.5165042260194381, round_res: 0.5165042260194381\n",
      "y_prime: 0.1, predicted_prob: 0.5165042274947472, round_res: 0.5165042274947472\n",
      "y_prime: 0.1, predicted_prob: 0.5165042281628879, round_res: 0.5165042281628879\n"
     ]
    }
   ],
   "source": [
    "P_prime = 0.1\n",
    "counterfactuals = get_counterfactuals(X[instance], P_prime, evaluate_model)\n",
    "counterfactuals"
   ]
  },
  {
   "cell_type": "code",
   "execution_count": null,
   "id": "e93ef0c7",
   "metadata": {},
   "outputs": [
    {
     "name": "stdout",
     "output_type": "stream",
     "text": [
      "best counterfactual: [-0.84488506  1.06933744 -2.02166475  1.34636635  0.16671612  2.92008462\n",
      "  0.07285642 -0.61611067]\n",
      "model prediction on counterfactual: [1]\n",
      "Model prediction probs on counterfactual: [[0.10008193 0.89991807]]\n",
      "% difference (x', x): [   0.   -203.87    0.     -0.     -0.     -0.     -0.      0.  ]\n"
     ]
    }
   ],
   "source": [
    "best_counterfactual = counterfactuals[-1]\n",
    "print(\"best counterfactual:\", best_counterfactual)\n",
    "print(\"model prediction on counterfactual:\", classifier.predict(best_counterfactual.reshape(1, -1)))\n",
    "print(\"Model prediction probs on counterfactual:\", classifier.predict_proba(best_counterfactual.reshape(1, -1)))\n",
    "print(\"% difference (x', x):\", (100*(best_counterfactual-X[instance])/X[instance]).round(2))"
   ]
  }
 ],
 "metadata": {
  "kernelspec": {
   "display_name": "Python 3",
   "language": "python",
   "name": "python3"
  },
  "language_info": {
   "codemirror_mode": {
    "name": "ipython",
    "version": 3
   },
   "file_extension": ".py",
   "mimetype": "text/x-python",
   "name": "python",
   "nbconvert_exporter": "python",
   "pygments_lexer": "ipython3",
   "version": "3.10.6"
  },
  "vscode": {
   "interpreter": {
    "hash": "916dbcbb3f70747c44a77c7bcd40155683ae19c65e1c03b4aa3499c5328201f1"
   }
  }
 },
 "nbformat": 4,
 "nbformat_minor": 5
}
