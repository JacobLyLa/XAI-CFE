{
 "cells": [
  {
   "cell_type": "code",
   "execution_count": 1,
   "metadata": {},
   "outputs": [
    {
     "ename": "AttributeError",
     "evalue": "module 'dice_ml.utils.helpers' has no attribute 'load_custom_dataset'",
     "output_type": "error",
     "traceback": [
      "\u001b[0;31m---------------------------------------------------------------------------\u001b[0m",
      "\u001b[0;31mAttributeError\u001b[0m                            Traceback (most recent call last)",
      "Cell \u001b[0;32mIn[1], line 5\u001b[0m\n\u001b[1;32m      2\u001b[0m \u001b[39mfrom\u001b[39;00m \u001b[39mdice_ml\u001b[39;00m\u001b[39m.\u001b[39;00m\u001b[39mutils\u001b[39;00m \u001b[39mimport\u001b[39;00m helpers \u001b[39m# helper functions\u001b[39;00m\n\u001b[1;32m      3\u001b[0m \u001b[39mfrom\u001b[39;00m \u001b[39msklearn\u001b[39;00m\u001b[39m.\u001b[39;00m\u001b[39mmodel_selection\u001b[39;00m \u001b[39mimport\u001b[39;00m train_test_split\n\u001b[0;32m----> 5\u001b[0m dataset \u001b[39m=\u001b[39m helpers\u001b[39m.\u001b[39;49mload_custom_dataset(\u001b[39m'\u001b[39m\u001b[39mpath_to_dataset.csv\u001b[39m\u001b[39m'\u001b[39m) \u001b[39m# Load custom dataset that includes gender\u001b[39;00m\n\u001b[1;32m      6\u001b[0m target \u001b[39m=\u001b[39m dataset[\u001b[39m\"\u001b[39m\u001b[39mincome\u001b[39m\u001b[39m\"\u001b[39m] \u001b[39m# outcome variable\u001b[39;00m\n\u001b[1;32m      7\u001b[0m train_dataset, test_dataset, _, _ \u001b[39m=\u001b[39m train_test_split(dataset,\n\u001b[1;32m      8\u001b[0m                                                      target,\n\u001b[1;32m      9\u001b[0m                                                      test_size\u001b[39m=\u001b[39m\u001b[39m0.2\u001b[39m,\n\u001b[1;32m     10\u001b[0m                                                      random_state\u001b[39m=\u001b[39m\u001b[39m0\u001b[39m,\n\u001b[1;32m     11\u001b[0m                                                      stratify\u001b[39m=\u001b[39mtarget)\n",
      "\u001b[0;31mAttributeError\u001b[0m: module 'dice_ml.utils.helpers' has no attribute 'load_custom_dataset'"
     ]
    }
   ],
   "source": [
    "import dice_ml\n",
    "from dice_ml.utils import helpers # helper functions\n",
    "from sklearn.model_selection import train_test_split\n",
    "\n",
    "dataset = helpers.load_custom_dataset('path_to_dataset.csv') # Load custom dataset that includes gender\n",
    "target = dataset[\"income\"] # outcome variable\n",
    "train_dataset, test_dataset, _, _ = train_test_split(dataset,\n",
    "                                                     target,\n",
    "                                                     test_size=0.2,\n",
    "                                                     random_state=0,\n",
    "                                                     stratify=target)\n",
    "# Dataset for training an ML model\n",
    "d = dice_ml.Data(dataframe=train_dataset,\n",
    "                 continuous_features=['age', 'hours_per_week', 'gender'], # Add gender as a feature\n",
    "                 outcome_name='income')\n",
    "\n",
    "# Pre-trained ML model\n",
    "m = dice_ml.Model(model_path='path_to_model.h5',\n",
    "                  backend='TF2', func=\"ohe-min-max\") # Train model using the custom dataset\n",
    "\n",
    "# DiCE explanation instance\n",
    "exp = dice_ml.Dice(d,m)\n",
    "\n",
    "# Generate counterfactual examples\n",
    "query_instance = test_dataset.drop(columns=\"income\")[0:1]\n",
    "desired_gender = \"male\" if query_instance.gender[0] == \"female\" else \"female\" # Specify desired gender\n",
    "desired_features = {\"gender\": desired_gender}\n",
    "dice_exp = exp.generate_counterfactuals(query_instance, total_CFs=20, desired_class=\"opposite\", desired_features=desired_features)\n",
    "\n",
    "# Visualize counterfactual explanation\n",
    "dice_exp.visualize_as_dataframe()"
   ]
  }
 ],
 "metadata": {
  "kernelspec": {
   "display_name": "Python 3",
   "language": "python",
   "name": "python3"
  },
  "language_info": {
   "codemirror_mode": {
    "name": "ipython",
    "version": 3
   },
   "file_extension": ".py",
   "mimetype": "text/x-python",
   "name": "python",
   "nbconvert_exporter": "python",
   "pygments_lexer": "ipython3",
   "version": "3.10.6"
  },
  "orig_nbformat": 4,
  "vscode": {
   "interpreter": {
    "hash": "916dbcbb3f70747c44a77c7bcd40155683ae19c65e1c03b4aa3499c5328201f1"
   }
  }
 },
 "nbformat": 4,
 "nbformat_minor": 2
}
